{
 "cells": [
  {
   "cell_type": "code",
   "execution_count": 1106,
   "metadata": {
    "collapsed": false
   },
   "outputs": [],
   "source": [
    "file_obj = open('sentences.txt', 'r')"
   ]
  },
  {
   "cell_type": "code",
   "execution_count": 1107,
   "metadata": {
    "collapsed": true
   },
   "outputs": [],
   "source": [
    "import scipy as sp"
   ]
  },
  {
   "cell_type": "code",
   "execution_count": 1108,
   "metadata": {
    "collapsed": false
   },
   "outputs": [],
   "source": [
    "import numpy as np"
   ]
  },
  {
   "cell_type": "code",
   "execution_count": 1109,
   "metadata": {
    "collapsed": false
   },
   "outputs": [
    {
     "name": "stdout",
     "output_type": "stream",
     "text": [
      "<open file 'sentences.txt', mode 'r' at 0x10c2f24b0>\n"
     ]
    }
   ],
   "source": [
    "print file_obj"
   ]
  },
  {
   "cell_type": "code",
   "execution_count": 1110,
   "metadata": {
    "collapsed": true
   },
   "outputs": [],
   "source": [
    "data = list(file_obj)"
   ]
  },
  {
   "cell_type": "code",
   "execution_count": 1111,
   "metadata": {
    "collapsed": true
   },
   "outputs": [],
   "source": [
    "text = ''\n",
    "a =''\n",
    "data_cat=[]"
   ]
  },
  {
   "cell_type": "code",
   "execution_count": 1112,
   "metadata": {
    "collapsed": false
   },
   "outputs": [],
   "source": [
    "for line in data:\n",
    "    line = line.lower()\n",
    "    for a in line:\n",
    "        if ((a<'a') | (a>'z')):\n",
    "            line = line.replace(a, ' ')\n",
    "    data_cat.append(line.split())\n",
    "    "
   ]
  },
  {
   "cell_type": "code",
   "execution_count": 1113,
   "metadata": {
    "collapsed": false
   },
   "outputs": [],
   "source": [
    "long_sent = []\n",
    "for i in range(len(data_cat)):\n",
    "    sent = data_cat[i]\n",
    "    for line in sent:\n",
    "        long_sent.append(line)"
   ]
  },
  {
   "cell_type": "code",
   "execution_count": 1114,
   "metadata": {
    "collapsed": false
   },
   "outputs": [],
   "source": [
    "i = 0\n",
    "words_in_sen.fromkeys(long_sent, 0)\n",
    "for line in long_sent:\n",
    "    if (words_in_sen[line] != 0):\n",
    "        continue\n",
    "    words_in_sen[line] = i;\n",
    "    i=i+1"
   ]
  },
  {
   "cell_type": "code",
   "execution_count": 1115,
   "metadata": {
    "collapsed": false,
    "scrolled": true
   },
   "outputs": [
    {
     "data": {
      "text/plain": [
       "{'a': 33,\n",
       " 'according': 168,\n",
       " 'adjacent': 115,\n",
       " 'allow': 186,\n",
       " 'allows': 197,\n",
       " 'also': 24,\n",
       " 'an': 231,\n",
       " 'ancestor': 78,\n",
       " 'and': 59,\n",
       " 'animals': 62,\n",
       " 'any': 153,\n",
       " 'app': 209,\n",
       " 'apple': 169,\n",
       " 'are': 79,\n",
       " 'arguments': 154,\n",
       " 'artificial': 67,\n",
       " 'as': 14,\n",
       " 'available': 165,\n",
       " 'based': 201,\n",
       " 'basic': 137,\n",
       " 'be': 23,\n",
       " 'between': 96,\n",
       " 'binary': 27,\n",
       " 'both': 80,\n",
       " 'by': 57,\n",
       " 'bytes': 20,\n",
       " 'can': 22,\n",
       " 'cat': 15,\n",
       " 'catenates': 17,\n",
       " 'cats': 4,\n",
       " 'changes': 9,\n",
       " 'chromosomes': 85,\n",
       " 'clear': 131,\n",
       " 'closest': 76,\n",
       " 'command': 136,\n",
       " 'commands': 126,\n",
       " 'common': 34,\n",
       " 'community': 194,\n",
       " 'comparison': 1,\n",
       " 'computers': 179,\n",
       " 'concatenate': 26,\n",
       " 'concern': 108,\n",
       " 'connected': 128,\n",
       " 'contains': 170,\n",
       " 'content': 42,\n",
       " 'count': 254,\n",
       " 'create': 243,\n",
       " 'default': 110,\n",
       " 'delete': 120,\n",
       " 'deliberately': 65,\n",
       " 'developed': 195,\n",
       " 'diploid': 81,\n",
       " 'disk': 245,\n",
       " 'displays': 156,\n",
       " 'dogs': 3,\n",
       " 'domestic': 88,\n",
       " 'domesticated': 74,\n",
       " 'domestication': 12,\n",
       " 'download': 206,\n",
       " 'drive': 249,\n",
       " 'during': 10,\n",
       " 'ears': 53,\n",
       " 'editions': 167,\n",
       " 'enhancements': 172,\n",
       " 'entirely': 236,\n",
       " 'error': 107,\n",
       " 'every': 216,\n",
       " 'external': 248,\n",
       " 'factory': 181,\n",
       " 'faint': 47,\n",
       " 'features': 252,\n",
       " 'felis': 93,\n",
       " 'fifth': 250,\n",
       " 'file': 39,\n",
       " 'files': 28,\n",
       " 'firmware': 180,\n",
       " 'flow': 134,\n",
       " 'for': 37,\n",
       " 'frequency': 51,\n",
       " 'from': 147,\n",
       " 'genes': 87,\n",
       " 'genus': 92,\n",
       " 'has': 130,\n",
       " 'have': 5,\n",
       " 'hear': 44,\n",
       " 'high': 49,\n",
       " 'however': 99,\n",
       " 'human': 52,\n",
       " 'if': 100,\n",
       " 'in': 50,\n",
       " 'incremental': 232,\n",
       " 'information': 135,\n",
       " 'installation': 187,\n",
       " 'installed': 182,\n",
       " 'installs': 237,\n",
       " 'instead': 113,\n",
       " 'intel': 190,\n",
       " 'interactive': 35,\n",
       " 'is': 40,\n",
       " 'it': 21,\n",
       " 'its': 75,\n",
       " 'july': 204,\n",
       " 'just': 31,\n",
       " 'keyboards': 117,\n",
       " 'kg': 97,\n",
       " 'later': 198,\n",
       " 'lb': 98,\n",
       " 'learned': 138,\n",
       " 'left': 132,\n",
       " 'legibility': 125,\n",
       " 'leopard': 158,\n",
       " 'lines': 145,\n",
       " 'linux': 142,\n",
       " 'lion': 203,\n",
       " 'longer': 185,\n",
       " 'mac': 174,\n",
       " 'made': 56,\n",
       " 'major': 8,\n",
       " 'marks': 227,\n",
       " 'mavericks': 225,\n",
       " 'may': 118,\n",
       " 'members': 91,\n",
       " 'mice': 58,\n",
       " 'mid': 177,\n",
       " 'more': 253,\n",
       " 'most': 220,\n",
       " 'mountain': 202,\n",
       " 'moved': 189,\n",
       " 'named': 105,\n",
       " 'need': 242,\n",
       " 'needing': 122,\n",
       " 'new': 149,\n",
       " 'no': 184,\n",
       " 'non': 200,\n",
       " 'not': 6,\n",
       " 'now': 196,\n",
       " 'october': 161,\n",
       " 'of': 19,\n",
       " 'off': 247,\n",
       " 'offered': 230,\n",
       " 'often': 114,\n",
       " 'on': 116,\n",
       " 'one': 63,\n",
       " 'online': 215,\n",
       " 'or': 48,\n",
       " 'organisms': 82,\n",
       " 'os': 175,\n",
       " 'osx': 193,\n",
       " 'other': 60,\n",
       " 'output': 41,\n",
       " 'over': 171,\n",
       " 'part': 211,\n",
       " 'patch': 218,\n",
       " 'people': 64,\n",
       " 'permanently': 119,\n",
       " 'piped': 101,\n",
       " 'pipes': 129,\n",
       " 'place': 238,\n",
       " 'possess': 84,\n",
       " 'predators': 72,\n",
       " 'predecessor': 173,\n",
       " 'process': 13,\n",
       " 'processors': 191,\n",
       " 'purchase': 205,\n",
       " 'rather': 234,\n",
       " 'read': 123,\n",
       " 'received': 146,\n",
       " 'receives': 155,\n",
       " 'recent': 221,\n",
       " 'redirected': 102,\n",
       " 'redirection': 111,\n",
       " 'release': 226,\n",
       " 'released': 160,\n",
       " 'releases': 199,\n",
       " 'releasing': 213,\n",
       " 'right': 133,\n",
       " 'roughly': 86,\n",
       " 'run': 246,\n",
       " 'running': 223,\n",
       " 's': 208,\n",
       " 'safari': 222,\n",
       " 'safer': 106,\n",
       " 'second': 228,\n",
       " 'selection': 68,\n",
       " 'separate': 244,\n",
       " 'sequence': 32,\n",
       " 'similar': 89,\n",
       " 'simply': 16,\n",
       " 'since': 188,\n",
       " 'single': 38,\n",
       " 'size': 90,\n",
       " 'small': 61,\n",
       " 'so': 239,\n",
       " 'some': 178,\n",
       " 'sounds': 45,\n",
       " 'standard': 43,\n",
       " 'started': 140,\n",
       " 'starting': 127,\n",
       " 'stdin': 148,\n",
       " 'stdout': 157,\n",
       " 'store': 210,\n",
       " 'streams': 18,\n",
       " 'successor': 162,\n",
       " 'such': 54,\n",
       " 'switch': 212,\n",
       " 'symbol': 112,\n",
       " 'symbols': 150,\n",
       " 't': 241,\n",
       " 'tamed': 66,\n",
       " 'terms': 124,\n",
       " 'than': 235,\n",
       " 'that': 83,\n",
       " 'the': 11,\n",
       " 'their': 192,\n",
       " 'they': 69,\n",
       " 'those': 55,\n",
       " 'three': 219,\n",
       " 'through': 207,\n",
       " 'tiger': 163,\n",
       " 'time': 229,\n",
       " 'to': 2,\n",
       " 'too': 46,\n",
       " 'two': 166,\n",
       " 'type': 151,\n",
       " 'typically': 94,\n",
       " 'undergone': 7,\n",
       " 'unix': 141,\n",
       " 'unnecessary': 103,\n",
       " 'update': 251,\n",
       " 'upgrade': 233,\n",
       " 'use': 36,\n",
       " 'used': 25,\n",
       " 'useful': 71,\n",
       " 'using': 144,\n",
       " 'vermin': 73,\n",
       " 'version': 164,\n",
       " 'versions': 214,\n",
       " 'was': 159,\n",
       " 'weighing': 95,\n",
       " 'were': 70,\n",
       " 'when': 139,\n",
       " 'where': 29,\n",
       " 'which': 183,\n",
       " 'wild': 77,\n",
       " 'will': 30,\n",
       " 'with': 104,\n",
       " 'without': 152,\n",
       " 'won': 240,\n",
       " 'world': 143,\n",
       " 'wrong': 109,\n",
       " 'x': 176,\n",
       " 'year': 217,\n",
       " 'yosemite': 224,\n",
       " 'you': 121}"
      ]
     },
     "execution_count": 1115,
     "metadata": {},
     "output_type": "execute_result"
    }
   ],
   "source": [
    "words_in_sen"
   ]
  },
  {
   "cell_type": "code",
   "execution_count": 1116,
   "metadata": {
    "collapsed": false
   },
   "outputs": [],
   "source": [
    "table=np.ones((len(data_cat),len(words_in_sen.values())+1))\n",
    "table = table*0"
   ]
  },
  {
   "cell_type": "code",
   "execution_count": 1117,
   "metadata": {
    "collapsed": false
   },
   "outputs": [],
   "source": [
    "for i in range(len(data_cat)):\n",
    "    words = words.fromkeys(data_cat[i], 0)\n",
    "    for line in data_cat[i]:\n",
    "        words[line] = words[line] + 1\n",
    "    for line in data_cat[i]:\n",
    "        j = words_in_sen[line]\n",
    "        table[i, j] = words[line]"
   ]
  },
  {
   "cell_type": "markdown",
   "metadata": {},
   "source": [
    "file_out = open('table.txt', 'w')\n",
    "for i in range(22):\n",
    "    for j in range(255):\n",
    "        file_out.write(str(table[i,j]))\n",
    "    file_out.write('\\n')"
   ]
  },
  {
   "cell_type": "code",
   "execution_count": 1118,
   "metadata": {
    "collapsed": true
   },
   "outputs": [],
   "source": [
    "from scipy import spatial"
   ]
  },
  {
   "cell_type": "code",
   "execution_count": 1119,
   "metadata": {
    "collapsed": false
   },
   "outputs": [],
   "source": [
    "res = np.arange(len(table), dtype = float)\n",
    "for i in rang:\n",
    "    res[i] = scipy.spatial.distance.cosine(table[i],table[0])"
   ]
  },
  {
   "cell_type": "code",
   "execution_count": 1120,
   "metadata": {
    "collapsed": false
   },
   "outputs": [],
   "source": [
    "file_out = open('answ1.txt', 'w')"
   ]
  },
  {
   "cell_type": "code",
   "execution_count": 1121,
   "metadata": {
    "collapsed": false
   },
   "outputs": [
    {
     "name": "stdout",
     "output_type": "stream",
     "text": [
      "6 4\n"
     ]
    }
   ],
   "source": [
    "rang = range(len(table))\n",
    "rang.remove(0)\n",
    "min = res[1];\n",
    "for i in rang:\n",
    "    if res[i]<=min:\n",
    "        min = res[i]\n",
    "        imin1 = i\n",
    "res[imin1] = 2\n",
    "min = res[1];\n",
    "for i in rang:\n",
    "    if res[i]<=min:\n",
    "        min = res[i]\n",
    "        imin2 = i\n",
    "file_out.write(str(imin1) + ' ' + str(imin2))\n",
    "print imin1, imin2"
   ]
  },
  {
   "cell_type": "code",
   "execution_count": 1122,
   "metadata": {
    "collapsed": false
   },
   "outputs": [],
   "source": [
    "file_out.close()"
   ]
  },
  {
   "cell_type": "code",
   "execution_count": null,
   "metadata": {
    "collapsed": true
   },
   "outputs": [],
   "source": []
  }
 ],
 "metadata": {
  "kernelspec": {
   "display_name": "Python 2",
   "language": "python",
   "name": "python2"
  },
  "language_info": {
   "codemirror_mode": {
    "name": "ipython",
    "version": 2
   },
   "file_extension": ".py",
   "mimetype": "text/x-python",
   "name": "python",
   "nbconvert_exporter": "python",
   "pygments_lexer": "ipython2",
   "version": "2.7.11"
  }
 },
 "nbformat": 4,
 "nbformat_minor": 0
}
